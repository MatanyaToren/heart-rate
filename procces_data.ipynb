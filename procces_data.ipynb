{
 "cells": [
  {
   "cell_type": "code",
   "execution_count": 142,
   "metadata": {},
   "outputs": [],
   "source": [
    "import numpy as np\n",
    "import matplotlib.pyplot as plt \n",
    "from scipy import signal\n",
    "from scipy.io import savemat, loadmat\n",
    "%matplotlib tk"
   ]
  },
  {
   "cell_type": "code",
   "execution_count": 143,
   "metadata": {},
   "outputs": [],
   "source": [
    "\n",
    "signal_mat = loadmat('output/signals_09_11_2021_12_21_57.mat')\n",
    "\n",
    "for key, value in signal_mat.items():\n",
    "    signal_mat[key] = np.squeeze(value)"
   ]
  },
  {
   "cell_type": "code",
   "execution_count": 144,
   "metadata": {},
   "outputs": [
    {
     "name": "stdout",
     "output_type": "stream",
     "text": [
      "(4570,)\n"
     ]
    }
   ],
   "source": [
    "raw = signal_mat['raw'] #[2000:-1100]\n",
    "filtered = signal_mat['filtered'] #[2000:-1100]\n",
    "print(raw.shape)\n",
    "t = np.linspace(0, raw.shape[0]/30, raw.shape[0])\n",
    "\n",
    "\n",
    "# raw signal vs. filtered signal\n",
    "RawFilteredFig, (RawFilteredAx1, RawFilteredAx2) = plt.subplots(2, 1, sharex=True)\n",
    "\n",
    "RawFilteredAx1.plot(t, raw)\n",
    "RawFilteredAx1.set_xlabel('time [sec]')\n",
    "RawFilteredAx1.set_title('raw signal')\n",
    "RawFilteredAx1.grid(True)\n",
    "RawFilteredAx1.xaxis.set_tick_params(labelbottom=True)\n",
    "\n",
    "RawFilteredAx2.plot(t, filtered)\n",
    "RawFilteredAx2.set_xlabel('time [sec]')\n",
    "RawFilteredAx2.set_title('filtered signal')\n",
    "RawFilteredAx2.grid(True)\n",
    "RawFilteredAx2.xaxis.set_tick_params(labelbottom=True)\n",
    "\n",
    "plt.tight_layout()\n",
    "plt.show()\n",
    "# RawFilteredFig.savefig('output/RawFilteredSignal.png', dpi=500)\n"
   ]
  },
  {
   "cell_type": "code",
   "execution_count": 145,
   "metadata": {},
   "outputs": [],
   "source": [
    "# filtered signal with peaks, rri signal, lomb periodogram\n",
    "RespFig, (signalAx, rriAx, lombAx) = plt.subplots(3, 1)\n",
    "\n",
    "signalAx.plot(t, signal_mat['filtered'])\n",
    "signalAx.plot(t[signal_mat['peak_times']], signal_mat['filtered'][signal_mat['peak_times']], 'x')\n",
    "signalAx.set_xlabel('time [sec]')\n",
    "signalAx.set_title('filtered signal')\n",
    "signalAx.grid(True)\n",
    "signalAx.xaxis.set_tick_params(labelbottom=True)\n",
    "\n",
    "rriAx.stem(t[signal_mat['peak_times']], signal_mat['rri']/30, basefmt='C0-', markerfmt='C0.')\n",
    "rriAx.set_ylim([0.6, 1.3])\n",
    "rriAx.set_xlabel('time [sec]')\n",
    "rriAx.set_title('rri signal')\n",
    "rriAx.grid(True)\n",
    "rriAx.sharex(signalAx)\n",
    "rriAx.xaxis.set_tick_params(labelbottom=True)\n",
    "\n",
    "lombAx.plot(signal_mat['freqs']*60, signal_mat['pgram'])\n",
    "lombAx.set_xlim([5, 25])\n",
    "lombAx.set_xlabel('frequency [bpm]')\n",
    "lombAx.set_title('lomb-scargle periodogram')\n",
    "lombAx.grid(True)\n",
    "\n",
    "\n",
    "plt.tight_layout()\n",
    "plt.show()"
   ]
  },
  {
   "cell_type": "code",
   "execution_count": 146,
   "metadata": {},
   "outputs": [],
   "source": [
    "# filtered signal with peaks, welch periodogram\n",
    "\n",
    "WelchFig, (WelchSignalAx, WelchAx) = plt.subplots(2, 1)\n",
    "\n",
    "WelchSignalAx.plot(t, signal_mat['filtered'])\n",
    "WelchSignalAx.plot(t[signal_mat['peak_times']], signal_mat['filtered'][signal_mat['peak_times']], 'x')\n",
    "WelchSignalAx.set_xlim([70, 85])\n",
    "WelchSignalAx.set_xlabel('time [sec]')\n",
    "WelchSignalAx.set_title('filtered signal')\n",
    "WelchSignalAx.grid(True)\n",
    "\n",
    "WelchAx.plot(signal_mat['f']*60, signal_mat['pxx'])\n",
    "WelchAx.set_xlim([40, 120])\n",
    "WelchAx.set_xlabel('frequency [bpm]')\n",
    "WelchAx.set_title('welch periodogram')\n",
    "WelchAx.grid(True)\n",
    "\n",
    "plt.tight_layout()\n",
    "plt.show()"
   ]
  },
  {
   "cell_type": "code",
   "execution_count": 147,
   "metadata": {},
   "outputs": [],
   "source": [
    "# uneven sampling\n",
    "\n",
    "time = np.linspace(0, 10, 1000)\n",
    "x = np.sin(2*np.pi*time)\n",
    "\n",
    "ratio = 1/40\n",
    "samples = np.random.choice(x.shape[0], size=int(x.shape[0]*ratio), replace=False)\n",
    "samples.sort()\n",
    "\n",
    "lombFig, (xAx, fftAx, lombAx) = plt.subplots(3, 1)\n",
    "\n",
    "xAx.plot(time, x, label='signal')\n",
    "xAx.plot(time[samples], x[samples], 'x', label='samples')\n",
    "xAx.set_xlabel('time [sec]')\n",
    "xAx.set_title('$sin(2\\pi\\cdot t)$')\n",
    "# xAx.legend()\n",
    "xAx.grid(True)\n",
    "\n",
    "fftfreq = np.fft.fftfreq(int(x.shape[0]*ratio), d=10/int(x.shape[0]*ratio))\n",
    "xfft = np.abs(np.fft.fft(x[samples]))\n",
    "fftAx.plot(fftfreq[fftfreq >= 0], xfft[fftfreq >= 0])\n",
    "fftAx.set_xlabel('frequency [Hz]')\n",
    "fftAx.set_title('fft of unevenly sampled data')\n",
    "fftAx.grid(True)\n",
    "\n",
    "lomb = signal.lombscargle(time[samples], x[samples], fftfreq[fftfreq > 0.1]*2*np.pi, precenter=True)\n",
    "lombAx.plot(fftfreq[fftfreq > 0.1], lomb)\n",
    "lombAx.set_xlabel('frequency [Hz]')\n",
    "lombAx.set_title('lomb-scargle of unevenly sampled data')\n",
    "lombAx.sharex(fftAx)\n",
    "lombAx.xaxis.set_tick_params(labelbottom=True)\n",
    "lombAx.grid(True)\n",
    "\n",
    "\n",
    "plt.tight_layout()\n",
    "plt.show()\n"
   ]
  },
  {
   "cell_type": "code",
   "execution_count": 148,
   "metadata": {},
   "outputs": [],
   "source": [
    "# nperseg + nstep*(nwindows-1) = 20 + 2*(20-1) = 58 sec\n",
    "\n",
    "filtered_signal = signal_mat['filtered'][-58*30:]\n",
    "\n",
    "fft_signal = np.abs(np.fft.fft(filtered_signal))\n",
    "fftfreq_signal = np.fft.fftfreq(filtered_signal.shape[0], 1/30)\n",
    "\n",
    "WelchFftFig, (WelchSignalAx, fftSignalAx) = plt.subplots(2, 1, sharex=True)\n",
    "\n",
    "WelchSignalAx.plot(signal_mat['f'], signal_mat['pxx'])\n",
    "WelchSignalAx.set_xlabel('frequency [Hz]')\n",
    "WelchSignalAx.set_title('Welch periodogram')\n",
    "WelchSignalAx.xaxis.set_tick_params(labelbottom=True)\n",
    "WelchSignalAx.grid(True)\n",
    "\n",
    "fftSignalAx.plot(fftfreq_signal[fftfreq_signal >= 0], fft_signal[fftfreq_signal >= 0])\n",
    "fftSignalAx.set_xlabel('frequency [Hz]')\n",
    "fftSignalAx.set_title('FFT')\n",
    "fftSignalAx.xaxis.set_tick_params(labelbottom=True)\n",
    "fftSignalAx.grid(True)\n",
    "fftSignalAx.set_xlim([0.5, 3])\n",
    "\n",
    "plt.tight_layout()\n",
    "plt.show()"
   ]
  }
 ],
 "metadata": {
  "interpreter": {
   "hash": "49a33c724f5a0dccda285b3ef6ecda44ca48978e8807ef3ba0c52eef6bd19352"
  },
  "kernelspec": {
   "display_name": "Python 3.6.13 64-bit ('deep_learn': conda)",
   "name": "python3"
  },
  "language_info": {
   "codemirror_mode": {
    "name": "ipython",
    "version": 3
   },
   "file_extension": ".py",
   "mimetype": "text/x-python",
   "name": "python",
   "nbconvert_exporter": "python",
   "pygments_lexer": "ipython3",
   "version": "3.6.13"
  },
  "orig_nbformat": 4
 },
 "nbformat": 4,
 "nbformat_minor": 2
}
